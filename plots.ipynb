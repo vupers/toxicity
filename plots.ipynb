{
 "cells": [
  {
   "attachments": {},
   "cell_type": "markdown",
   "metadata": {},
   "source": [
    "load the datasets with the recorded scores and plot some stuff."
   ]
  },
  {
   "cell_type": "code",
   "execution_count": 1,
   "metadata": {},
   "outputs": [],
   "source": [
    "import seaborn as sns\n",
    "import pandas as pd\n",
    "import os\n",
    "import matplotlib.pyplot as plt\n",
    "import csv"
   ]
  },
  {
   "cell_type": "code",
   "execution_count": 2,
   "metadata": {},
   "outputs": [],
   "source": [
    "def getDataframe(name = 'perspective'):\n",
    "    \"\"\" \n",
    "    Returns df if given folder exists, None otherwise.\n",
    "    \"\"\"\n",
    "    try:\n",
    "        scoreDataframe = pd.read_csv(\"results/\" + name + \".csv\")\n",
    "        scoreDataframe = scoreDataframe[[\"utterance\",\"intentClass\",\"score\"]]\n",
    "        return scoreDataframe\n",
    "    except:\n",
    "        return None"
   ]
  },
  {
   "cell_type": "code",
   "execution_count": 3,
   "metadata": {},
   "outputs": [],
   "source": [
    "modelName = 'detoxify'  #insert 'perspective', 'rewire' or 'detoxify'\n",
    "scoreDataframe = getDataframe(modelName)"
   ]
  },
  {
   "cell_type": "code",
   "execution_count": 70,
   "metadata": {},
   "outputs": [],
   "source": [
    "\"\"\"\n",
    "if it doesn't exist yet, create new folder for Model of choice.\n",
    "Also creates subfolders for plots and sheets\n",
    "\"\"\"\n",
    "folderName = 'analysis/' + modelName + '/'\n",
    "if not os.path.exists(folderName):\n",
    "    os.mkdir(folderName)\n",
    "\n"
   ]
  },
  {
   "cell_type": "code",
   "execution_count": 71,
   "metadata": {},
   "outputs": [],
   "source": [
    "selected_rows = scoreDataframe[scoreDataframe['score'] < 0]\n",
    "percentage = str(100* len(selected_rows)/len(scoreDataframe))[:5]\n",
    "\n",
    "with open(folderName + 'invalid.txt', 'w') as f:\n",
    "    f.write(f\"The file {modelName}  contains {len(scoreDataframe)} scores.\\n\")\n",
    "    f.write(f\"Of these, {len(selected_rows)} ({percentage}%) are classified as unreadable (not in English).\")"
   ]
  },
  {
   "cell_type": "code",
   "execution_count": 6,
   "metadata": {},
   "outputs": [
    {
     "name": "stdout",
     "output_type": "stream",
     "text": [
      "8973\n"
     ]
    }
   ],
   "source": [
    "scores = scoreDataframe[scoreDataframe['score'] >= 0]\n",
    "print(len(scores))"
   ]
  },
  {
   "cell_type": "code",
   "execution_count": 73,
   "metadata": {},
   "outputs": [
    {
     "data": {
      "image/png": "[encoded data removed]",
      "text/plain": [
       "<Figure size 432x288 with 1 Axes>"
      ]
     },
     "metadata": {
      "needs_background": "light"
     },
     "output_type": "display_data"
    }
   ],
   "source": [
    "sns.histplot(x=scores[\"score\"],kde=True).set(title= modelName + \" scores over the validation set\")\n",
    "plt.savefig(folderName + \"hist.png\")"
   ]
  },
  {
   "cell_type": "code",
   "execution_count": 7,
   "metadata": {},
   "outputs": [],
   "source": [
    "#Get the values for a given class.\n",
    "def getClassValues(scores, desiredClass = 'E'):\n",
    "    acceptableValues = ['E','I','O','A']\n",
    "    if desiredClass not in acceptableValues:\n",
    "        print(\"Error: The class you selected doesn't exist.\")\n",
    "        return scores\n",
    "    val = scores[scores['intentClass'] == desiredClass]\n",
    "    return val"
   ]
  },
  {
   "cell_type": "code",
   "execution_count": 8,
   "metadata": {},
   "outputs": [],
   "source": [
    "# ugly code\n",
    "implicit = getClassValues(scores,'I')\n",
    "explicit = getClassValues(scores,'E')\n",
    "action = getClassValues(scores,'A')\n",
    "other = getClassValues(scores,'O')\n",
    "toxic = scores[(scores['intentClass'] == 'E') | (scores['intentClass'] == 'I')]\n",
    "nonToxic = scores[(scores['intentClass'] == 'O') | (scores['intentClass'] == 'A')]"
   ]
  },
  {
   "cell_type": "code",
   "execution_count": 13,
   "metadata": {},
   "outputs": [
    {
     "name": "stdout",
     "output_type": "stream",
     "text": [
      "        utterance intentClass     score\n",
      "20             Ez           I  0.007343\n",
      "24       wez ez ?           I  0.012996\n",
      "25       team ezz           I  0.004497\n",
      "30      team feed           I  0.000860\n",
      "45             ez           I  0.007343\n",
      "...           ...         ...       ...\n",
      "8885      ez bois           I  0.002987\n",
      "8907           ez           I  0.007343\n",
      "8911       ez all           I  0.009547\n",
      "8946  ez +25 rank           I  0.001067\n",
      "8951      ez bara           I  0.006831\n",
      "\n",
      "[447 rows x 3 columns]\n"
     ]
    }
   ],
   "source": [
    "print(implicit[implicit['score'] < 0.1])"
   ]
  },
  {
   "cell_type": "code",
   "execution_count": 76,
   "metadata": {},
   "outputs": [
    {
     "data": {
      "image/png": "[encoded data removed]",
      "text/plain": [
       "<Figure size 432x288 with 1 Axes>"
      ]
     },
     "metadata": {
      "needs_background": "light"
     },
     "output_type": "display_data"
    }
   ],
   "source": [
    "sns.histplot(data=toxic, x=\"score\", hue=\"intentClass\").set(title= modelName + \" scores over the toxic classes\")\n",
    "plt.savefig(folderName + \"toxicClasses.png\")\n",
    "plt.close()\n",
    "sns.histplot(data=nonToxic, x=\"score\", hue=\"intentClass\").set(title= modelName + \" scores over the NON toxic classes\")\n",
    "plt.savefig(folderName + \"nonToxicClasses.png\")"
   ]
  },
  {
   "cell_type": "code",
   "execution_count": 77,
   "metadata": {},
   "outputs": [],
   "source": [
    "def misclassifications(df):\n",
    "    thresholds = [0.2, 0.5, 0.7, 0.9, 0.95]\n",
    "    rows = [[\"Threshold\",\"Percentage\", \"NumScores below thresholds\", \"Ratio\"]]\n",
    "    for threshold in thresholds:\n",
    "        percentage = len(df)\n",
    "        misclassified = df[df['score'] < threshold]\n",
    "        ratio = str(100 * len(misclassified) / len(df))[:5] + \"%\"\n",
    "        values = [threshold,len(misclassified),ratio, str(len(misclassified)) + \"/\" + str(len(df))]\n",
    "        rows.append(values)\n",
    "    return rows\n",
    "def saveScores(rows,name):\n",
    "    if name is None: \n",
    "        name = 'generic'\n",
    "    with open(folderName + name + \".csv\", \"w\") as f:\n",
    "        writer = csv.writer(f)\n",
    "        writer.writerows(rows)"
   ]
  },
  {
   "cell_type": "code",
   "execution_count": 78,
   "metadata": {},
   "outputs": [],
   "source": [
    "scores = misclassifications(explicit)\n",
    "saveScores(scores,'explicit')\n",
    "scores = misclassifications(implicit)\n",
    "saveScores(scores,'implicit')\n",
    "scores = misclassifications(other)\n",
    "saveScores(scores,'other')\n",
    "scores = misclassifications(action)\n",
    "saveScores(scores,'action')"
   ]
  },
  {
   "cell_type": "code",
   "execution_count": null,
   "metadata": {},
   "outputs": [],
   "source": [
    "thresholds = [0.2, 0.5, 0.7, 0.9, 0.95]\n",
    "for "
   ]
  }
 ],
 "metadata": {
  "kernelspec": {
   "display_name": "Python 3",
   "language": "python",
   "name": "python3"
  },
  "language_info": {
   "codemirror_mode": {
    "name": "ipython",
    "version": 3
   },
   "file_extension": ".py",
   "mimetype": "text/x-python",
   "name": "python",
   "nbconvert_exporter": "python",
   "pygments_lexer": "ipython3",
   "version": "3.9.5 (tags/v3.9.5:0a7dcbd, May  3 2021, 17:27:52) [MSC v.1928 64 bit (AMD64)]"
  },
  "orig_nbformat": 4,
  "vscode": {
   "interpreter": {
    "hash": "3d4fbfc4d8678a18a84521eacb4a3107715687d9740f81dce50d37cd89d96cf1"
   }
  }
 },
 "nbformat": 4,
 "nbformat_minor": 2
}
